{
  "nbformat": 4,
  "nbformat_minor": 0,
  "metadata": {
    "colab": {
      "name": "Statistical Hypothesis Tests in Python.ipynb",
      "provenance": [],
      "collapsed_sections": [],
      "authorship_tag": "ABX9TyODyenuQwepZe1UAmF+a1su"
    },
    "kernelspec": {
      "name": "python3",
      "display_name": "Python 3"
    }
  },
  "cells": [
    {
      "cell_type": "markdown",
      "metadata": {
        "id": "HFRGyEl75zbw"
      },
      "source": [
        "### Gombosuren.A, MUST"
      ]
    },
    {
      "cell_type": "markdown",
      "metadata": {
        "id": "S87xUxmhFLiv"
      },
      "source": [
        "<h1 class=\"list-group-item list-group-item-action active\">Guide to Statistical Hypothesis Tests in Python</h1>\n",
        "\n",
        "\n",
        "<img src = \"https://d33wubrfki0l68.cloudfront.net/a5cb4bbe1b04d9099c6fc771724ea67ec087845b/cb16f/wp-content/uploads/2019/07/statistics-vs-machine-learning.png\">"
      ]
    },
    {
      "cell_type": "code",
      "metadata": {
        "id": "hv9CTpHY5zwc"
      },
      "source": [
        "import warnings;\n",
        "warnings.filterwarnings('ignore');"
      ],
      "execution_count": 1,
      "outputs": []
    },
    {
      "cell_type": "markdown",
      "metadata": {
        "id": "0dPutkuE-ojZ"
      },
      "source": [
        "## Normality Tests"
      ]
    },
    {
      "cell_type": "markdown",
      "metadata": {
        "id": "p2OzMqxT6iTa"
      },
      "source": [
        "<h3 class=\"alert alert-info\">Shapiro-Wilk Test</h3>\n",
        "\n",
        "<a href=\"https://docs.scipy.org/doc/scipy/reference/generated/scipy.stats.shapiro.html\" class=\"btn btn-warning\" role=\"button\">Scipy Ref -></a>"
      ]
    },
    {
      "cell_type": "code",
      "metadata": {
        "id": "TTWZLU-k8YLr"
      },
      "source": [
        "# CREATE DATA;\n",
        "data = [0.873, 2.817, 0.121, -0.945, -0.055, -1.436, 0.360, -1.478, -1.637, -1.869];"
      ],
      "execution_count": null,
      "outputs": []
    },
    {
      "cell_type": "code",
      "metadata": {
        "colab": {
          "base_uri": "https://localhost:8080/"
        },
        "id": "9yKigq8I6qLk",
        "outputId": "47cccf7d-8f2b-45e1-ffdc-a757c456a888"
      },
      "source": [
        "from scipy.stats import shapiro;\n",
        "stat, p = shapiro(data);\n",
        "print('stat={0:.3f}, p={0:.3f}' .format(stat, p));\n",
        "\n",
        "if p > 0.05:\n",
        "    print('Probably Gaussian or Normal');\n",
        "else:\n",
        "    print('Probably not Gaussian or not Normal');"
      ],
      "execution_count": 5,
      "outputs": [
        {
          "output_type": "stream",
          "text": [
            "stat=0.895, p=0.895\n",
            "Probably Gaussian or Normal\n"
          ],
          "name": "stdout"
        }
      ]
    },
    {
      "cell_type": "markdown",
      "metadata": {
        "id": "VHppPgBn8AgQ"
      },
      "source": [
        "<h3 class=\"alert alert-info\">D’Agostino’s K^2 Test</h3>\n",
        "\n",
        "<a href=\"https://docs.scipy.org/doc/scipy/reference/generated/scipy.stats.normaltest.html\" class=\"btn btn-warning\" role=\"button\">Scipy Ref -></a>"
      ]
    },
    {
      "cell_type": "code",
      "metadata": {
        "colab": {
          "base_uri": "https://localhost:8080/"
        },
        "id": "lyOG9qUo8JKJ",
        "outputId": "02299afb-d5b2-4e74-ff80-b054ebd38299"
      },
      "source": [
        "from scipy.stats import normaltest;\n",
        "stat, p = normaltest(data);\n",
        "print('stat={0:.3f}, p={0:.3g}'.format(stat, p));\n",
        "if p > 0.05:\n",
        "    print('Probably Gaussian or Normal');\n",
        "else:\n",
        "    print('Probably not Gaussian or not Normal');"
      ],
      "execution_count": 6,
      "outputs": [
        {
          "output_type": "stream",
          "text": [
            "stat=3.392, p=3.39\n",
            "Probably Gaussian or Normal\n"
          ],
          "name": "stdout"
        }
      ]
    },
    {
      "cell_type": "markdown",
      "metadata": {
        "id": "BY8pphiD8JY6"
      },
      "source": [
        "<h3 class=\"alert alert-info\">Anderson-Darling Test</h3>\n",
        "\n",
        "<a href=\"https://docs.scipy.org/doc/scipy/reference/generated/scipy.stats.anderson.html\" class=\"btn btn-warning\" role=\"button\">Scipy Ref -></a>"
      ]
    },
    {
      "cell_type": "code",
      "metadata": {
        "colab": {
          "base_uri": "https://localhost:8080/"
        },
        "id": "rH3JI7cB8qCH",
        "outputId": "4388881c-b4e1-49a3-a2dc-48720f467fcc"
      },
      "source": [
        "from scipy.stats import anderson;\n",
        "result = anderson(data);\n",
        "print('stat={0:.3g}'.format(result.statistic));\n",
        "for i in range(len(result.critical_values)):\n",
        "    sl, cv = result.significance_level[i], result.critical_values[i];\n",
        "    if result.statistic < cv:\n",
        "        print('Probably Gaussian at the %.1f%% level' % (sl));\n",
        "    else:\n",
        "        print('Probably not Gaussian at the %.1f%% level' % (sl));"
      ],
      "execution_count": 7,
      "outputs": [
        {
          "output_type": "stream",
          "text": [
            "stat=0.424\n",
            "Probably Gaussian at the 15.0% level\n",
            "Probably Gaussian at the 10.0% level\n",
            "Probably Gaussian at the 5.0% level\n",
            "Probably Gaussian at the 2.5% level\n",
            "Probably Gaussian at the 1.0% level\n"
          ],
          "name": "stdout"
        }
      ]
    },
    {
      "cell_type": "markdown",
      "metadata": {
        "id": "oeXNL_Ep8_rq"
      },
      "source": [
        "## Correlation \n",
        "\n",
        "<h3 class=\"alert alert-info\">Pearson’s Correlation Coefficient</h3>\n",
        "\n",
        "<a href=\"https://docs.scipy.org/doc/scipy/reference/generated/scipy.stats.normaltest.html\" class=\"btn btn-warning\" role=\"button\">Scipy Ref -></a>/a>"
      ]
    },
    {
      "cell_type": "code",
      "metadata": {
        "colab": {
          "base_uri": "https://localhost:8080/"
        },
        "id": "EIq355s_8_zi",
        "outputId": "d2e5ec0b-a6db-49dc-9127-46cbe411464c"
      },
      "source": [
        "from scipy.stats import pearsonr;\n",
        "data1 = [0.873, 2.817, 0.121, -0.945, -0.055, -1.436, 0.360, -1.478, -1.637, -1.869];\n",
        "data2 = [0.353, 3.517, 0.125, -7.545, -0.555, -1.536, 3.350, -1.578, -3.537, -1.579];\n",
        "stat, p = pearsonr(data1, data2);\n",
        "print('stat={0:.3f}, p={0:.3f}'.format(stat, p));\n",
        "if p > 0.05:\n",
        "    print('Probably independent');\n",
        "else:\n",
        "    print('Probably dependent');"
      ],
      "execution_count": 8,
      "outputs": [
        {
          "output_type": "stream",
          "text": [
            "stat=0.688, p=0.688\n",
            "Probably dependent\n"
          ],
          "name": "stdout"
        }
      ]
    },
    {
      "cell_type": "markdown",
      "metadata": {
        "id": "GmzdYDH19aGT"
      },
      "source": [
        "<h3 class=\"alert alert-info\">Spearman’s Rank Correlation</h3>\n",
        "\n",
        "<a href=\"https://docs.scipy.org/doc/scipy/reference/generated/scipy.stats.spearmanr.html\" class=\"btn btn-warning\" role=\"button\">Scipy Ref -></a>"
      ]
    },
    {
      "cell_type": "code",
      "metadata": {
        "colab": {
          "base_uri": "https://localhost:8080/"
        },
        "id": "8us0qDa29aZ_",
        "outputId": "16dba7c0-561c-4965-ac72-00330ce6ac66"
      },
      "source": [
        "from scipy.stats import spearmanr;\n",
        "data1 = [0.873, 2.817, 0.121, -0.945, -0.055, -1.436, 0.360, -1.478, -1.637, -1.869];\n",
        "data2 = [0.353, 3.517, 0.125, -7.545, -0.555, -1.536, 3.350, -1.578, -3.537, -1.579];\n",
        "stat, p = spearmanr(data1, data2);\n",
        "print('stat={0:.3g}, p={0:.3f}'.format(stat, p));\n",
        "if p > 0.05:\n",
        "    print('Probably independent');\n",
        "else:\n",
        "    print('Probably dependent');"
      ],
      "execution_count": 9,
      "outputs": [
        {
          "output_type": "stream",
          "text": [
            "stat=0.855, p=0.855\n",
            "Probably dependent\n"
          ],
          "name": "stdout"
        }
      ]
    },
    {
      "cell_type": "markdown",
      "metadata": {
        "id": "2dMDWvJB9mCy"
      },
      "source": [
        "<h3 class=\"alert alert-info\">Kendall’s Rank Correlation</h3>\n",
        "\n",
        "<a href=\"https://docs.scipy.org/doc/scipy/reference/generated/scipy.stats.kendalltau.html\" class=\"btn btn-warning\" role=\"button\">Scipy Ref -></a>"
      ]
    },
    {
      "cell_type": "code",
      "metadata": {
        "colab": {
          "base_uri": "https://localhost:8080/"
        },
        "id": "dgr-K6qD9mKw",
        "outputId": "40946073-55dd-4601-e3d0-37a6762cf475"
      },
      "source": [
        "from scipy.stats import kendalltau;\n",
        "data1 = [0.873, 2.817, 0.121, -0.945, -0.055, -1.436, 0.360, -1.478, -1.637, -1.869];\n",
        "data2 = [0.353, 3.517, 0.125, -7.545, -0.555, -1.536, 3.350, -1.578, -3.537, -1.579];\n",
        "stat, p = kendalltau(data1, data2);\n",
        "print('stat={0:.3f}, p={0:.3f}'.format(stat, p));\n",
        "if p > 0.05:\n",
        "    print('Probably independent');\n",
        "else:\n",
        "    print('Probably dependent');"
      ],
      "execution_count": 10,
      "outputs": [
        {
          "output_type": "stream",
          "text": [
            "stat=0.733, p=0.733\n",
            "Probably dependent\n"
          ],
          "name": "stdout"
        }
      ]
    },
    {
      "cell_type": "markdown",
      "metadata": {
        "id": "GZlrTJWr9xVb"
      },
      "source": [
        "<h3 class=\"alert alert-info\">Chi-Squared Test</h3>\n",
        "\n",
        "<a href=\"https://docs.scipy.org/doc/scipy/reference/generated/scipy.stats.chi2_contingency.html\" class=\"btn btn-warning\" role=\"button\">Scipy Ref -></a>"
      ]
    },
    {
      "cell_type": "code",
      "metadata": {
        "colab": {
          "base_uri": "https://localhost:8080/"
        },
        "id": "A_HB7e8o9xnt",
        "outputId": "5831574b-5768-45b6-83de-e697730ce4f6"
      },
      "source": [
        "from scipy.stats import chi2_contingency;\n",
        "table = [[10, 20, 30],[6,  9,  17]];\n",
        "stat, p, dof, expected = chi2_contingency(table);\n",
        "print('stat={0:.3g}, p={0:.3f}' .format(stat, p));\n",
        "if p > 0.05:\n",
        "    print('Probably independent');\n",
        "else:\n",
        "    print('Probably dependent');"
      ],
      "execution_count": 11,
      "outputs": [
        {
          "output_type": "stream",
          "text": [
            "stat=0.272, p=0.272\n",
            "Probably independent\n"
          ],
          "name": "stdout"
        }
      ]
    },
    {
      "cell_type": "markdown",
      "metadata": {
        "id": "mZR4G8Zr9_jH"
      },
      "source": [
        "##Stationary Tests\n",
        "\n",
        "<h3 class=\"alert alert-info\">Augmented Dickey-Fuller Unit Root Test</h3>\n",
        "\n",
        "<a href=\"https://www.statsmodels.org/dev/generated/statsmodels.tsa.stattools.adfuller.html\" class=\"btn btn-warning\" role=\"button\">Stats-Model Ref -></a>"
      ]
    },
    {
      "cell_type": "code",
      "metadata": {
        "colab": {
          "base_uri": "https://localhost:8080/"
        },
        "id": "i8733wml9_q2",
        "outputId": "2295eee9-886d-4d62-c4a4-e13dbce73f45"
      },
      "source": [
        "from statsmodels.tsa.stattools import adfuller;\n",
        "data = [0, 1, 2, 3, 4, 5, 6, 7, 8, 9];\n",
        "stat, p, lags, obs, crit, t = adfuller(data);\n",
        "print('stat={0:.3f}, p={0:.3f}'.format(stat, p));\n",
        "if p > 0.05:\n",
        "    print('Probably not Stationary');\n",
        "else:\n",
        "    print('Probably Stationary');"
      ],
      "execution_count": 12,
      "outputs": [
        {
          "output_type": "stream",
          "text": [
            "stat=0.175, p=0.175\n",
            "Probably not Stationary\n"
          ],
          "name": "stdout"
        }
      ]
    },
    {
      "cell_type": "markdown",
      "metadata": {
        "id": "Jo4ei87a-S07"
      },
      "source": [
        "<h3 class=\"alert alert-info\">Kwiatkowski-Phillips-Schmidt-Shin</h3>\n",
        "\n",
        "<a href=\"https://www.statsmodels.org/stable/generated/statsmodels.tsa.stattools.kpss.html#statsmodels.tsa.stattools.kpss\" class=\"btn btn-warning\" role=\"button\">Stats-Model Ref -></a>"
      ]
    },
    {
      "cell_type": "code",
      "metadata": {
        "colab": {
          "base_uri": "https://localhost:8080/"
        },
        "id": "gIw8Nklv-S7R",
        "outputId": "9aca0b37-90af-40eb-add4-cda5d2175a03"
      },
      "source": [
        "from statsmodels.tsa.stattools import kpss;\n",
        "data = [0, 1, 2, 3, 4, 5, 6, 7, 8, 9];\n",
        "stat, p, lags, crit = kpss(data);\n",
        "print('stat={0:.3g}, p={0:.3g}'.format(stat, p));\n",
        "if p > 0.05:\n",
        "    print('Probably not Stationary');\n",
        "else:\n",
        "    print('Probably Stationary');"
      ],
      "execution_count": 13,
      "outputs": [
        {
          "output_type": "stream",
          "text": [
            "stat=0.41, p=0.41\n",
            "Probably not Stationary\n"
          ],
          "name": "stdout"
        }
      ]
    },
    {
      "cell_type": "markdown",
      "metadata": {
        "id": "IMc0zJcZ-fkZ"
      },
      "source": [
        "## Parametric Statistical Hypothesis Tests"
      ]
    },
    {
      "cell_type": "markdown",
      "metadata": {
        "id": "q6jMyWz3_Nt9"
      },
      "source": [
        "<h3 class=\"alert alert-info\">Student’s t-test</h3>\n",
        "\n",
        "<a href=\"https://docs.scipy.org/doc/scipy/reference/generated/scipy.stats.ttest_ind.html\" class=\"btn btn-warning\" role=\"button\">Scipy Ref -></a>"
      ]
    },
    {
      "cell_type": "code",
      "metadata": {
        "colab": {
          "base_uri": "https://localhost:8080/"
        },
        "id": "IN59_QPZ-fqu",
        "outputId": "d2eccd02-252d-4990-bdc4-f6c56ff3dd51"
      },
      "source": [
        "from scipy.stats import ttest_ind;\n",
        "data1 = [0.873, 2.817, 0.121, -0.945, -0.055, -1.436, 0.360, -1.478, -1.637, -1.869];\n",
        "data2 = [1.142, -0.432, -0.938, -0.729, -0.846, -0.157, 0.500, 1.183, -1.075, -0.169];\n",
        "stat, p = ttest_ind(data1, data2);\n",
        "print('stat={0:.3f}, p={0:.3f}'.format(stat, p));\n",
        "if p > 0.05:\n",
        "    print('Probably the same distribution');\n",
        "else:\n",
        "    print('Probably different distributions');"
      ],
      "execution_count": 14,
      "outputs": [
        {
          "output_type": "stream",
          "text": [
            "stat=-0.326, p=-0.326\n",
            "Probably the same distribution\n"
          ],
          "name": "stdout"
        }
      ]
    },
    {
      "cell_type": "markdown",
      "metadata": {
        "id": "jvC8Hryx_pkK"
      },
      "source": [
        "<h3 class=\"alert alert-info\">Paired Student’s t-test</h3>\n",
        "\n",
        "<a href=\"https://docs.scipy.org/doc/scipy/reference/generated/scipy.stats.ttest_rel.html\" class=\"btn btn-warning\" role=\"button\">Scipy Ref -></a>"
      ]
    },
    {
      "cell_type": "code",
      "metadata": {
        "colab": {
          "base_uri": "https://localhost:8080/"
        },
        "id": "r2H1DLcA_ptI",
        "outputId": "a30479e8-e94b-4c6b-d61d-22451d80fa75"
      },
      "source": [
        "from scipy.stats import ttest_rel;\n",
        "data1 = [0.873, 2.817, 0.121, -0.945, -0.055, -1.436, 0.360, -1.478, -1.637, -1.869];\n",
        "data2 = [1.142, -0.432, -0.938, -0.729, -0.846, -0.157, 0.500, 1.183, -1.075, -0.169];\n",
        "stat, p = ttest_rel(data1, data2);\n",
        "print('stat={0:.3f}, p={0:.3f}'.format(stat, p));\n",
        "if p > 0.05:\n",
        "    print('Probably the same distribution');\n",
        "else:\n",
        "    print('Probably different distributions');"
      ],
      "execution_count": 15,
      "outputs": [
        {
          "output_type": "stream",
          "text": [
            "stat=-0.334, p=-0.334\n",
            "Probably the same distribution\n"
          ],
          "name": "stdout"
        }
      ]
    },
    {
      "cell_type": "markdown",
      "metadata": {
        "id": "fm3QmuJwAAah"
      },
      "source": [
        "<h3 class=\"alert alert-info\">Analysis of Variance Test (ANOVA)</h3>\n",
        "\n",
        "<a href=\"https://docs.scipy.org/doc/scipy/reference/generated/scipy.stats.f_oneway.html\" class=\"btn btn-warning\" role=\"button\">Scipy Ref -></a>"
      ]
    },
    {
      "cell_type": "code",
      "metadata": {
        "colab": {
          "base_uri": "https://localhost:8080/"
        },
        "id": "8yflyX1mAAf8",
        "outputId": "eecc32f2-5077-40fa-9079-37309650372d"
      },
      "source": [
        "from scipy.stats import f_oneway;\n",
        "data1 = [0.873, 2.817, 0.121, -0.945, -0.055, -1.436, 0.360, -1.478, -1.637, -1.869];\n",
        "data2 = [1.142, -0.432, -0.938, -0.729, -0.846, -0.157, 0.500, 1.183, -1.075, -0.169];\n",
        "data3 = [-0.208, 0.696, 0.928, -1.148, -0.213, 0.229, 0.137, 0.269, -0.870, -1.204];\n",
        "stat, p = f_oneway(data1, data2, data3);\n",
        "print('stat={0:.3g}, p={0:.3g}'.format(stat, p));\n",
        "if p > 0.05:\n",
        "    print('Probably the same distribution');\n",
        "else:\n",
        "    print('Probably different distributions');"
      ],
      "execution_count": 16,
      "outputs": [
        {
          "output_type": "stream",
          "text": [
            "stat=0.0964, p=0.0964\n",
            "Probably the same distribution\n"
          ],
          "name": "stdout"
        }
      ]
    },
    {
      "cell_type": "markdown",
      "metadata": {
        "id": "TPzkJojDAKL7"
      },
      "source": [
        "## Nonparametric Statistical Hypothesis Tests\n",
        "\n",
        "<h3 class=\"alert alert-info\">Mann-Whitney U Test</h3>\n",
        "\n",
        "<a href=\"https://docs.scipy.org/doc/scipy/reference/generated/scipy.stats.mannwhitneyu.html\" class=\"btn btn-warning\" role=\"button\">Scipy Ref -></a>\n",
        "\n"
      ]
    },
    {
      "cell_type": "code",
      "metadata": {
        "colab": {
          "base_uri": "https://localhost:8080/"
        },
        "id": "0DqzGj5CAKS0",
        "outputId": "c62a047d-8416-4a73-fd7e-901b42d66d77"
      },
      "source": [
        "from scipy.stats import mannwhitneyu;\n",
        "data1 = [0.873, 2.817, 0.121, -0.945, -0.055, -1.436, 0.360, -1.478, -1.637, -1.869];\n",
        "data2 = [1.142, -0.432, -0.938, -0.729, -0.846, -0.157, 0.500, 1.183, -1.075, -0.169];\n",
        "stat, p = mannwhitneyu(data1, data2);\n",
        "print('stat={0:.3g}, p={0:.3g}'.format(stat, p));\n",
        "if p > 0.05:\n",
        "    print('Probably the same distribution');\n",
        "else:\n",
        "    print('Probably different distributions');"
      ],
      "execution_count": 17,
      "outputs": [
        {
          "output_type": "stream",
          "text": [
            "stat=40, p=40\n",
            "Probably the same distribution\n"
          ],
          "name": "stdout"
        }
      ]
    },
    {
      "cell_type": "markdown",
      "metadata": {
        "id": "HlKxDQ0yAqKm"
      },
      "source": [
        "<h3 class=\"alert alert-info\">Wilcoxon Signed-Rank Test</h3>\n",
        "\n",
        "<a href=\"https://docs.scipy.org/doc/scipy/reference/generated/scipy.stats.wilcoxon.html\" class=\"btn btn-warning\" role=\"button\">Scipy Ref -></a>"
      ]
    },
    {
      "cell_type": "code",
      "metadata": {
        "colab": {
          "base_uri": "https://localhost:8080/"
        },
        "id": "-afsy9mWAqQQ",
        "outputId": "3786298d-8612-49dd-a37c-2683ee6b823a"
      },
      "source": [
        "from scipy.stats import wilcoxon;\n",
        "data1 = [0.873, 2.817, 0.121, -0.945, -0.055, -1.436, 0.360, -1.478, -1.637, -1.869];\n",
        "data2 = [1.142, -0.432, -0.938, -0.729, -0.846, -0.157, 0.500, 1.183, -1.075, -0.169];\n",
        "stat, p = wilcoxon(data1, data2);\n",
        "print('stat={0:.3g}, p={0:.3g}' .format (stat, p));\n",
        "if p > 0.05:\n",
        "    print('Probably the same distribution');\n",
        "else:\n",
        "    print('Probably different distributions');"
      ],
      "execution_count": 18,
      "outputs": [
        {
          "output_type": "stream",
          "text": [
            "stat=21, p=21\n",
            "Probably the same distribution\n"
          ],
          "name": "stdout"
        }
      ]
    },
    {
      "cell_type": "markdown",
      "metadata": {
        "id": "vtMMU1NPAw8D"
      },
      "source": [
        "<h3 class=\"alert alert-info\">Kruskal-Wallis H Test</h3>\n",
        "\n",
        "\n",
        "<a href=\"https://docs.scipy.org/doc/scipy/reference/generated/scipy.stats.kruskal.html\" class=\"btn btn-warning\" role=\"button\">Scipy Ref -></a>"
      ]
    },
    {
      "cell_type": "code",
      "metadata": {
        "colab": {
          "base_uri": "https://localhost:8080/"
        },
        "id": "dynidsNXAxD-",
        "outputId": "bc5e1105-c9e4-4b89-8258-23829621a127"
      },
      "source": [
        "from scipy.stats import kruskal;\n",
        "data1 = [0.873, 2.817, 0.121, -0.945, -0.055, -1.436, 0.360, -1.478, -1.637, -1.869];\n",
        "data2 = [1.142, -0.432, -0.938, -0.729, -0.846, -0.157, 0.500, 1.183, -1.075, -0.169];\n",
        "stat, p = kruskal(data1, data2);\n",
        "print('stat={0:.3g}, p={0:.3g}'.format(stat, p));\n",
        "if p > 0.05:\n",
        "    print('Probably the same distribution');\n",
        "else:\n",
        "    print('Probably different distributions');"
      ],
      "execution_count": 19,
      "outputs": [
        {
          "output_type": "stream",
          "text": [
            "stat=0.571, p=0.571\n",
            "Probably the same distribution\n"
          ],
          "name": "stdout"
        }
      ]
    },
    {
      "cell_type": "markdown",
      "metadata": {
        "id": "_GEsEne2A6PF"
      },
      "source": [
        "<h3 class=\"alert alert-info\">Friedman Test</h3>\n",
        "\n",
        "<a href=\"https://docs.scipy.org/doc/scipy/reference/generated/scipy.stats.friedmanchisquare.html\" class=\"btn btn-warning\" role=\"button\">Scipy Ref -></a>\n"
      ]
    },
    {
      "cell_type": "code",
      "metadata": {
        "colab": {
          "base_uri": "https://localhost:8080/"
        },
        "id": "avfjmsX4A6YZ",
        "outputId": "4c901712-9218-401a-cfe8-b7178b662771"
      },
      "source": [
        "from scipy.stats import friedmanchisquare;\n",
        "data1 = [0.873, 2.817, 0.121, -0.945, -0.055, -1.436, 0.360, -1.478, -1.637, -1.869];\n",
        "data2 = [1.142, -0.432, -0.938, -0.729, -0.846, -0.157, 0.500, 1.183, -1.075, -0.169];\n",
        "data3 = [-0.208, 0.696, 0.928, -1.148, -0.213, 0.229, 0.137, 0.269, -0.870, -1.204];\n",
        "stat, p = friedmanchisquare(data1, data2, data3);\n",
        "print('stat={0:.3g}, p={0:.3f}'.format(stat, p));\n",
        "if p > 0.05:\n",
        "    print('Probably the same distribution');\n",
        "else:\n",
        "    print('Probably different distributions');"
      ],
      "execution_count": 20,
      "outputs": [
        {
          "output_type": "stream",
          "text": [
            "stat=0.8, p=0.800\n",
            "Probably the same distribution\n"
          ],
          "name": "stdout"
        }
      ]
    },
    {
      "cell_type": "markdown",
      "metadata": {
        "id": "LF48cN1oBE0u"
      },
      "source": [
        "### TY;"
      ]
    }
  ]
}